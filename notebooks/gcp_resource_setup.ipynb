{
 "cells": [
  {
   "cell_type": "code",
   "execution_count": 1,
   "id": "a4843d02",
   "metadata": {},
   "outputs": [],
   "source": [
    "from dotenv import load_dotenv\n",
    "load_dotenv()\n",
    "import os"
   ]
  },
  {
   "cell_type": "code",
   "execution_count": 2,
   "id": "855b44cf",
   "metadata": {},
   "outputs": [
    {
     "name": "stdout",
     "output_type": "stream",
     "text": [
      "Bucket: speak-aura-ai-audio\n",
      "Service Account Key File Path: ../credentials/bhack-471114-2b12cc8d7377.json\n"
     ]
    }
   ],
   "source": [
    "PROJECT_ID = os.getenv(\"PROJECT_ID\")\n",
    "PROJECT_NUMBER = os.getenv(\"PROJECT_NUMBER\")\n",
    "BUCKET_NAME = os.getenv(\"BUCKET_NAME\")\n",
    "DATASET_ID = os.getenv(\"DATASET_ID\")\n",
    "CONNECTION_ID = os.getenv(\"CONNECTION_ID\")\n",
    "SPEECH_MODEL = os.getenv(\"SPEECH_MODEL\")\n",
    "GENERATIVE_AI_MODEL = os.getenv(\"GENERATIVE_AI_MODEL\")\n",
    "DATASET_LOCATION = os.getenv(\"DATASET_LOCATION\")\n",
    "AUDIO_OBJECT_TABLE_ID = os.getenv(\"AUDIO_OBJECT_TABLE_ID\")\n",
    "MAIN_ACCOUNT_ID = os.getenv(\"MAIN_ACCOUNT_ID\")\n",
    "SERVICE_ACCOUNT_KEY_ID = os.getenv(\"SERVICE_ACCOUNT_KEY_ID\")\n",
    "SERVICE_ACCOUNT_KEY_FILE_PATH = os.getenv(\"SERVICE_ACCOUNT_KEY_FILE_PATH\")\n",
    "\n",
    "# Quick check\n",
    "print(\"Bucket:\", BUCKET_NAME)\n",
    "print(\"Service Account Key File Path:\", SERVICE_ACCOUNT_KEY_FILE_PATH)"
   ]
  },
  {
   "cell_type": "code",
   "execution_count": null,
   "id": "f114b107",
   "metadata": {},
   "outputs": [],
   "source": [
    "# ============================================\n",
    "# Notebook: BigQuery & Vertex AI Service Setup\n",
    "# ============================================\n",
    "\n",
    "# Cell 1: Authenticate to Google Cloud (manual login)\n",
    "# Only needed if you are running this locally, not in Colab Enterprise\n",
    "!gcloud auth login"
   ]
  },
  {
   "cell_type": "code",
   "execution_count": null,
   "id": "432c902c",
   "metadata": {},
   "outputs": [],
   "source": [
    "!gcloud config set account {MAIN_ACCOUNT_ID}"
   ]
  },
  {
   "cell_type": "code",
   "execution_count": null,
   "id": "65096249",
   "metadata": {},
   "outputs": [],
   "source": [
    "# Step 1: Set your project ID\n",
    "!gcloud config set project {PROJECT_ID}"
   ]
  },
  {
   "cell_type": "code",
   "execution_count": null,
   "id": "a30b12c7",
   "metadata": {},
   "outputs": [],
   "source": [
    "# Cell 3: Activate service account using key file\n",
    "# Make sure you have the JSON key at the specified path\n",
    "!gcloud auth activate-service-account --key-file=$SERVICE_ACCOUNT_KEY_FILE_PATH"
   ]
  },
  {
   "cell_type": "code",
   "execution_count": null,
   "id": "7776edb8",
   "metadata": {},
   "outputs": [],
   "source": [
    "\n",
    "# Step 2: Create a BigQuery Cloud resource connection\n",
    "# This allows BigQuery to talk to Vertex AI\n",
    "!bq mk --connection --location=us \\\n",
    "    --connection_type=CLOUD_RESOURCE {CONNECTION_ID}"
   ]
  },
  {
   "cell_type": "code",
   "execution_count": 4,
   "id": "1d7dda69",
   "metadata": {},
   "outputs": [
    {
     "name": "stdout",
     "output_type": "stream",
     "text": [
      "Service Account for connection: bqcx-962614496383-lb5t@gcp-sa-bigquery-condel.iam.gserviceaccount.com\n"
     ]
    }
   ],
   "source": [
    "# Step 3: Get the Service Account for the connection\n",
    "SERVICE_ACCT = !bq show --format=prettyjson --connection us.{CONNECTION_ID} | grep \"serviceAccountId\" | cut -d '\"' -f 4\n",
    "SERVICE_ACCT_EMAIL = SERVICE_ACCT[-1]\n",
    "print(\"Service Account for connection:\", SERVICE_ACCT_EMAIL)"
   ]
  },
  {
   "cell_type": "code",
   "execution_count": null,
   "id": "38baab09",
   "metadata": {},
   "outputs": [],
   "source": [
    "# Grant IAM permission to the service account on your GCS bucket\n",
    "# This allows BigQuery/Vertex AI to access audio files\n",
    "!gsutil iam ch serviceAccount:{SERVICE_ACCT_EMAIL}:roles/storage.objectViewer gs://speak-aura-ai-audio"
   ]
  },
  {
   "cell_type": "code",
   "execution_count": null,
   "id": "3b770e64",
   "metadata": {},
   "outputs": [],
   "source": [
    "# Step 4: Grant the necessary IAM roles for Vertex AI access\n",
    "\n",
    "!gcloud projects add-iam-policy-binding {PROJECT_ID} \\\n",
    "    --member=\"serviceAccount:{SERVICE_ACCT_EMAIL}\" \\\n",
    "    --role='roles/bigquery.connectionUser'"
   ]
  },
  {
   "cell_type": "code",
   "execution_count": 8,
   "id": "f43a525a",
   "metadata": {},
   "outputs": [
    {
     "name": "stdout",
     "output_type": "stream",
     "text": [
      "Operation \"operations/acat.p2-962614496383-1b0e7614-834b-41c5-bad7-20076319a41a\" finished successfully.\n"
     ]
    }
   ],
   "source": [
    "!gcloud services enable documentai.googleapis.com\n"
   ]
  },
  {
   "cell_type": "code",
   "execution_count": null,
   "id": "cab4a034",
   "metadata": {},
   "outputs": [],
   "source": [
    "!gcloud projects add-iam-policy-binding {PROJECT_ID} \\\n",
    "    --member=\"serviceAccount:{SERVICE_ACCT_EMAIL}\" \\\n",
    "    --role='roles/documentai.viewer'"
   ]
  },
  {
   "cell_type": "code",
   "execution_count": null,
   "id": "8c5e7bae",
   "metadata": {},
   "outputs": [],
   "source": [
    "!gcloud projects add-iam-policy-binding {PROJECT_ID} \\\n",
    "    --member=\"serviceAccount:{SERVICE_ACCT_EMAIL}\" \\\n",
    "    --role=\"roles/documentai.admin\""
   ]
  },
  {
   "cell_type": "code",
   "execution_count": null,
   "id": "d08f2d8a",
   "metadata": {},
   "outputs": [],
   "source": [
    "!gcloud projects add-iam-policy-binding {PROJECT_ID} \\\n",
    "    --member=\"serviceAccount:{SERVICE_ACCT_EMAIL}\" \\\n",
    "    --role='roles/storage.objectViewer'"
   ]
  },
  {
   "cell_type": "code",
   "execution_count": null,
   "id": "604141ec",
   "metadata": {},
   "outputs": [],
   "source": [
    "!gcloud projects add-iam-policy-binding {PROJECT_ID} \\\n",
    "    --member=\"serviceAccount:{SERVICE_ACCT_EMAIL}\" \\\n",
    "    --role='roles/speech.editor'"
   ]
  },
  {
   "cell_type": "code",
   "execution_count": null,
   "id": "335df606",
   "metadata": {},
   "outputs": [],
   "source": [
    "!gcloud projects add-iam-policy-binding {PROJECT_ID} \\\n",
    "    --member=\"serviceAccount:{SERVICE_ACCT_EMAIL}\" \\\n",
    "    --role='roles/aiplatform.user'"
   ]
  },
  {
   "cell_type": "code",
   "execution_count": null,
   "id": "6fd1018e",
   "metadata": {},
   "outputs": [],
   "source": [
    "# Step 5: Wait for IAM propagation\n",
    "import time\n",
    "print(\"Waiting 60 seconds for IAM propagation...\")\n",
    "time.sleep(60)\n",
    "print(\"Setup complete. You can now create remote models pointing to Vertex AI.\")"
   ]
  },
  {
   "cell_type": "code",
   "execution_count": null,
   "id": "8c634944",
   "metadata": {},
   "outputs": [],
   "source": [
    "# Cell 6: Optional: verify permissions and account\n",
    "!gcloud auth list"
   ]
  },
  {
   "cell_type": "code",
   "execution_count": null,
   "id": "ec044677",
   "metadata": {},
   "outputs": [],
   "source": [
    "!gcloud projects get-iam-policy {PROJECT_ID}"
   ]
  },
  {
   "cell_type": "markdown",
   "id": "70ba72ae",
   "metadata": {},
   "source": [
    "## Cleaning Up\n",
    "### To clean up all Google Cloud resources used in this project"
   ]
  },
  {
   "cell_type": "code",
   "execution_count": null,
   "id": "16a4aff0",
   "metadata": {},
   "outputs": [],
   "source": [
    "# # Delete the BigQuery tables\n",
    "# ! bq rm --table -f {PROJECT_ID}:{DATASET_ID}.{AUDIO_OBJECT_TABLE_ID}\n",
    "\n",
    "# # Delete the remote model\n",
    "# ! bq rm --model -f {PROJECT_ID}:{DATASET_ID}.{SPEECH_MODEL}\n",
    "\n",
    "# # Delete the remote connection\n",
    "# ! bq rm --connection --project_id={PROJECT_ID} --location=us {CONNECTION_ID}\n",
    "\n",
    "# # Delete the BigQuery dataset\n",
    "# ! bq rm -r -f {PROJECT_ID}:{DATASET_ID}"
   ]
  }
 ],
 "metadata": {
  "kernelspec": {
   "display_name": "aura_env (3.11.7)",
   "language": "python",
   "name": "python3"
  },
  "language_info": {
   "codemirror_mode": {
    "name": "ipython",
    "version": 3
   },
   "file_extension": ".py",
   "mimetype": "text/x-python",
   "name": "python",
   "nbconvert_exporter": "python",
   "pygments_lexer": "ipython3",
   "version": "3.11.7"
  }
 },
 "nbformat": 4,
 "nbformat_minor": 5
}
