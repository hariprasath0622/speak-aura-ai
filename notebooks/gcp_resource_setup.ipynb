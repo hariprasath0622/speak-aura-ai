{
 "cells": [
  {
   "cell_type": "code",
   "execution_count": null,
   "id": "a4843d02",
   "metadata": {},
   "outputs": [],
   "source": [
    "from dotenv import load_dotenv\n",
    "load_dotenv()\n",
    "import os"
   ]
  },
  {
   "cell_type": "code",
   "execution_count": null,
   "id": "855b44cf",
   "metadata": {},
   "outputs": [],
   "source": [
    "PROJECT_ID = os.getenv(\"PROJECT_ID\")\n",
    "PROJECT_NUMBER = os.getenv(\"PROJECT_NUMBER\")\n",
    "BUCKET_NAME = os.getenv(\"BUCKET_NAME\")\n",
    "DATASET_ID = os.getenv(\"DATASET_ID\")\n",
    "CONNECTION_ID = os.getenv(\"CONNECTION_ID\")\n",
    "SPEECH_MODEL = os.getenv(\"SPEECH_MODEL\")\n",
    "GENERATIVE_AI_MODEL = os.getenv(\"GENERATIVE_AI_MODEL\")\n",
    "DATASET_LOCATION = os.getenv(\"DATASET_LOCATION\")\n",
    "AUDIO_OBJECT_TABLE_ID = os.getenv(\"AUDIO_OBJECT_TABLE_ID\")\n",
    "MAIN_ACCOUNT_ID = os.getenv(\"MAIN_ACCOUNT_ID\")\n",
    "SERVICE_ACCOUNT_KEY_ID = os.getenv(\"SERVICE_ACCOUNT_KEY_ID\")\n",
    "SERVICE_ACCOUNT_KEY_FILE_PATH = os.getenv(\"SERVICE_ACCOUNT_KEY_FILE_PATH\")\n",
    "\n",
    "# Quick check\n",
    "print(\"Bucket:\", BUCKET_NAME)\n",
    "print(\"Service Account Key File Path:\", SERVICE_ACCOUNT_KEY_FILE_PATH)"
   ]
  },
  {
   "cell_type": "code",
   "execution_count": null,
   "id": "50137311",
   "metadata": {},
   "outputs": [],
   "source": [
    "!gcloud auth list"
   ]
  },
  {
   "cell_type": "markdown",
   "id": "6728a89c",
   "metadata": {},
   "source": [
    "### If main account not logged in use this below 2 steps to continue or other wise go to step 5"
   ]
  },
  {
   "cell_type": "code",
   "execution_count": null,
   "id": "f114b107",
   "metadata": {},
   "outputs": [],
   "source": [
    "# Cell 1: Authenticate to Google Cloud (manual login)\n",
    "# Only needed if you are running this locally, not in Colab Enterprise\n",
    "!gcloud auth login"
   ]
  },
  {
   "cell_type": "code",
   "execution_count": null,
   "id": "9b6ba355",
   "metadata": {},
   "outputs": [],
   "source": [
    "!gcloud config set account {MAIN_ACCOUNT_ID}"
   ]
  },
  {
   "cell_type": "code",
   "execution_count": null,
   "id": "65096249",
   "metadata": {},
   "outputs": [],
   "source": [
    "# Step 1: Set your project ID\n",
    "!gcloud config set project {PROJECT_ID}"
   ]
  },
  {
   "cell_type": "code",
   "execution_count": null,
   "id": "6f6bfc7c",
   "metadata": {},
   "outputs": [],
   "source": [
    "!gcloud config get-value project"
   ]
  },
  {
   "cell_type": "code",
   "execution_count": null,
   "id": "a30b12c7",
   "metadata": {},
   "outputs": [],
   "source": [
    "# Cell 3: Activate service account using key file\n",
    "# Make sure you have the JSON key at the specified path\n",
    "!gcloud auth activate-service-account --key-file=$SERVICE_ACCOUNT_KEY_FILE_PATH"
   ]
  },
  {
   "cell_type": "markdown",
   "id": "80a5c95a",
   "metadata": {},
   "source": [
    "#### Make sure your current service account is activated"
   ]
  },
  {
   "cell_type": "code",
   "execution_count": null,
   "id": "819b1b91",
   "metadata": {},
   "outputs": [],
   "source": [
    "!gcloud auth list"
   ]
  },
  {
   "cell_type": "code",
   "execution_count": null,
   "id": "7776edb8",
   "metadata": {},
   "outputs": [],
   "source": [
    "# Step 2: Create a BigQuery Cloud resource connection\n",
    "# This allows BigQuery to talk to Vertex AI\n",
    "!bq mk --connection --location=us \\\n",
    "    --connection_type=CLOUD_RESOURCE {CONNECTION_ID}"
   ]
  },
  {
   "cell_type": "code",
   "execution_count": null,
   "id": "1d7dda69",
   "metadata": {},
   "outputs": [],
   "source": [
    "# Step 3: Get the Service Account for the connection\n",
    "SERVICE_ACCT = !bq show --format=prettyjson --connection us.{CONNECTION_ID} | grep \"serviceAccountId\" | cut -d '\"' -f 4\n",
    "SERVICE_ACCT_EMAIL = SERVICE_ACCT[-1]\n",
    "print(\"Service Account for connection:\", SERVICE_ACCT_EMAIL)"
   ]
  },
  {
   "cell_type": "code",
   "execution_count": null,
   "id": "a32acd8b",
   "metadata": {},
   "outputs": [],
   "source": [
    "!gcloud services enable cloudresourcemanager.googleapis.com"
   ]
  },
  {
   "cell_type": "code",
   "execution_count": null,
   "id": "f43a525a",
   "metadata": {},
   "outputs": [],
   "source": [
    "!gcloud services enable documentai.googleapis.com"
   ]
  },
  {
   "cell_type": "code",
   "execution_count": null,
   "id": "17225feb",
   "metadata": {},
   "outputs": [],
   "source": [
    "!gcloud services enable aiplatform.googleapis.com"
   ]
  },
  {
   "cell_type": "code",
   "execution_count": null,
   "id": "2e3327ad",
   "metadata": {},
   "outputs": [],
   "source": [
    "!gcloud services enable speech.googleapis.com"
   ]
  },
  {
   "cell_type": "code",
   "execution_count": null,
   "id": "bf2bd5df",
   "metadata": {},
   "outputs": [],
   "source": [
    "!gcloud projects add-iam-policy-binding {PROJECT_ID} \\\n",
    "  --member=\"serviceAccount:{SERVICE_ACCOUNT_KEY_ID}\" \\\n",
    "  --role=\"roles/storage.admin\""
   ]
  },
  {
   "cell_type": "code",
   "execution_count": null,
   "id": "e4826ae2",
   "metadata": {},
   "outputs": [],
   "source": [
    "!gcloud projects add-iam-policy-binding {PROJECT_ID} \\\n",
    "    --member=\"serviceAccount:{SERVICE_ACCT_EMAIL}\" \\\n",
    "    --role=\"roles/speech.client\""
   ]
  },
  {
   "cell_type": "code",
   "execution_count": null,
   "id": "3b770e64",
   "metadata": {},
   "outputs": [],
   "source": [
    "!gcloud projects add-iam-policy-binding {PROJECT_ID} \\\n",
    "    --member=\"serviceAccount:{SERVICE_ACCT_EMAIL}\" \\\n",
    "    --role='roles/bigquery.connectionUser'"
   ]
  },
  {
   "cell_type": "code",
   "execution_count": null,
   "id": "cab4a034",
   "metadata": {},
   "outputs": [],
   "source": [
    "!gcloud projects add-iam-policy-binding {PROJECT_ID} \\\n",
    "    --member=\"serviceAccount:{SERVICE_ACCT_EMAIL}\" \\\n",
    "    --role='roles/documentai.viewer'"
   ]
  },
  {
   "cell_type": "code",
   "execution_count": null,
   "id": "8c5e7bae",
   "metadata": {},
   "outputs": [],
   "source": [
    "!gcloud projects add-iam-policy-binding {PROJECT_ID} \\\n",
    "    --member=\"serviceAccount:{SERVICE_ACCT_EMAIL}\" \\\n",
    "    --role=\"roles/documentai.admin\""
   ]
  },
  {
   "cell_type": "code",
   "execution_count": null,
   "id": "d08f2d8a",
   "metadata": {},
   "outputs": [],
   "source": [
    "!gcloud projects add-iam-policy-binding {PROJECT_ID} \\\n",
    "    --member=\"serviceAccount:{SERVICE_ACCT_EMAIL}\" \\\n",
    "    --role='roles/storage.admin'"
   ]
  },
  {
   "cell_type": "code",
   "execution_count": null,
   "id": "190eebc4",
   "metadata": {},
   "outputs": [],
   "source": [
    "!gcloud projects add-iam-policy-binding {PROJECT_ID} \\\n",
    "    --member=\"serviceAccount:{SERVICE_ACCT_EMAIL}\" \\\n",
    "    --role='roles/storage.objectViewer'"
   ]
  },
  {
   "cell_type": "code",
   "execution_count": null,
   "id": "604141ec",
   "metadata": {},
   "outputs": [],
   "source": [
    "!gcloud projects add-iam-policy-binding {PROJECT_ID} \\\n",
    "    --member=\"serviceAccount:{SERVICE_ACCT_EMAIL}\" \\\n",
    "    --role='roles/speech.editor'"
   ]
  },
  {
   "cell_type": "code",
   "execution_count": null,
   "id": "335df606",
   "metadata": {},
   "outputs": [],
   "source": [
    "!gcloud projects add-iam-policy-binding {PROJECT_ID} \\\n",
    "    --member=\"serviceAccount:{SERVICE_ACCT_EMAIL}\" \\\n",
    "    --role='roles/aiplatform.user'"
   ]
  },
  {
   "cell_type": "code",
   "execution_count": null,
   "id": "ad98114d",
   "metadata": {},
   "outputs": [],
   "source": [
    "!gcloud projects add-iam-policy-binding {PROJECT_ID} \\\n",
    "    --member=\"serviceAccount:{SERVICE_ACCT_EMAIL}\" \\\n",
    "    --role='roles/bigquery.jobUser'"
   ]
  },
  {
   "cell_type": "code",
   "execution_count": null,
   "id": "7150b146",
   "metadata": {},
   "outputs": [],
   "source": [
    "!gcloud projects add-iam-policy-binding {PROJECT_ID} \\\n",
    "    --member=\"serviceAccount:{SERVICE_ACCT_EMAIL}\" \\\n",
    "    --role='roles/bigquery.dataViewer'"
   ]
  },
  {
   "cell_type": "code",
   "execution_count": null,
   "id": "05b3c6e0",
   "metadata": {},
   "outputs": [],
   "source": [
    "from google.cloud import storage\n",
    "import os\n",
    "from pathlib import Path\n",
    "from google.oauth2 import service_account\n",
    "\n",
    "# If your notebook is at speak/notebooks/, and the credentials live at speak/credentials/hack36.json\n",
    "\n",
    "service_account_file = (Path.cwd() / SERVICE_ACCOUNT_KEY_FILE_PATH).resolve()\n",
    "\n",
    "# sanity check\n",
    "if not service_account_file.exists():\n",
    "    raise FileNotFoundError(f\"Service account file not found: {service_account_file}\")\n",
    "\n",
    "# create credentials\n",
    "credentials = service_account.Credentials.from_service_account_file(\n",
    "    str(service_account_file),\n",
    "    scopes=[\"https://www.googleapis.com/auth/cloud-platform\"],\n",
    ")\n",
    "\n",
    "storage_client = storage.Client(credentials=credentials, project=credentials.project_id)\n",
    "\n",
    "def create_gcs_bucket():\n",
    "    bucket_name = BUCKET_NAME\n",
    "    bucket = storage_client.bucket(bucket_name)\n",
    "    if not bucket.exists():\n",
    "        storage_client.create_bucket(bucket, location=DATASET_LOCATION)\n",
    "        print(f\"✅ Created bucket {bucket_name}\")\n",
    "    else:\n",
    "        print(f\"ℹ️ Bucket {bucket_name} already exists\")\n",
    "    return bucket\n",
    "\n",
    "create_gcs_bucket()"
   ]
  },
  {
   "cell_type": "code",
   "execution_count": null,
   "id": "38baab09",
   "metadata": {},
   "outputs": [],
   "source": [
    "# Grant IAM permission to the service account on your GCS bucket\n",
    "!gsutil iam ch serviceAccount:{SERVICE_ACCOUNT_KEY_ID}:roles/storage.objectViewer gs://{BUCKET_NAME}"
   ]
  },
  {
   "cell_type": "code",
   "execution_count": null,
   "id": "6fd1018e",
   "metadata": {},
   "outputs": [],
   "source": [
    "# Step 5: Wait for IAM propagation\n",
    "import time\n",
    "print(\"Waiting 60 seconds for IAM propagation...\")\n",
    "time.sleep(60)\n",
    "print(\"Setup complete. You can now create remote models pointing to Vertex AI.\")"
   ]
  },
  {
   "cell_type": "code",
   "execution_count": null,
   "id": "8c634944",
   "metadata": {},
   "outputs": [],
   "source": [
    "# Cell 6: Optional: verify permissions and account\n",
    "!gcloud auth list"
   ]
  },
  {
   "cell_type": "code",
   "execution_count": null,
   "id": "af5b095d",
   "metadata": {},
   "outputs": [],
   "source": [
    "# !gcloud components install alpha --quiet"
   ]
  },
  {
   "cell_type": "code",
   "execution_count": null,
   "id": "3727931a",
   "metadata": {},
   "outputs": [],
   "source": [
    "# !gcloud alpha ml speech recognizers list \\\n",
    "#     --project=hackathon-project-472403 \\\n",
    "#     --location=us-central1"
   ]
  },
  {
   "cell_type": "markdown",
   "id": "70ba72ae",
   "metadata": {},
   "source": [
    "## Cleaning Up\n",
    "### To clean up all Google Cloud resources used in this project"
   ]
  },
  {
   "cell_type": "code",
   "execution_count": null,
   "id": "ec044677",
   "metadata": {},
   "outputs": [],
   "source": [
    "!gcloud projects get-iam-policy {PROJECT_ID}"
   ]
  },
  {
   "cell_type": "code",
   "execution_count": null,
   "id": "16a4aff0",
   "metadata": {},
   "outputs": [],
   "source": [
    "# # Delete the BigQuery tables\n",
    "# ! bq rm --table -f {PROJECT_ID}:{DATASET_ID}.{AUDIO_OBJECT_TABLE_ID}\n",
    "\n",
    "# # Delete the remote model\n",
    "# ! bq rm --model -f {PROJECT_ID}:{DATASET_ID}.{SPEECH_MODEL}\n",
    "\n",
    "# # Delete the remote connection\n",
    "# ! bq rm --connection --project_id={PROJECT_ID} --location=us {CONNECTION_ID}\n",
    "\n",
    "# # Delete the BigQuery dataset\n",
    "# ! bq rm -r -f {PROJECT_ID}:{DATASET_ID}"
   ]
  },
  {
   "cell_type": "code",
   "execution_count": null,
   "id": "f4658c1d",
   "metadata": {},
   "outputs": [],
   "source": [
    "# gcloud auth application-default revoke\n",
    "\n",
    "# gcloud init\n",
    "\n",
    "# 1] Re-initialize this configuration [default] with new settings\n",
    "\n",
    "# Login \n",
    "\n",
    "# choose created project\n",
    "\n",
    "# gcloud auth application-default login\n",
    "\n",
    "# gcloud cheat-sheet \n",
    "\n"
   ]
  }
 ],
 "metadata": {
  "kernelspec": {
   "display_name": "aura_env (3.11.7)",
   "language": "python",
   "name": "python3"
  },
  "language_info": {
   "codemirror_mode": {
    "name": "ipython",
    "version": 3
   },
   "file_extension": ".py",
   "mimetype": "text/x-python",
   "name": "python",
   "nbconvert_exporter": "python",
   "pygments_lexer": "ipython3",
   "version": "3.11.7"
  }
 },
 "nbformat": 4,
 "nbformat_minor": 5
}
